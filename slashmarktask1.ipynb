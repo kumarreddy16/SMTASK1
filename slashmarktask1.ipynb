{
 "cells": [
  {
   "cell_type": "code",
   "execution_count": 1,
   "id": "1c8ad79e",
   "metadata": {},
   "outputs": [
    {
     "data": {
      "application/vnd.jupyter.widget-view+json": {
       "model_id": "2ba0d188f23c42969c9380b3e51738c2",
       "version_major": 2,
       "version_minor": 0
      },
      "text/plain": [
       "Text(value='', description='Task description:')"
      ]
     },
     "metadata": {},
     "output_type": "display_data"
    },
    {
     "data": {
      "application/vnd.jupyter.widget-view+json": {
       "model_id": "b01e5ba59cb6435980d06bdf0ea10c8e",
       "version_major": 2,
       "version_minor": 0
      },
      "text/plain": [
       "Dropdown(description='Priority:', options=('Low', 'Medium', 'High'), value='Low')"
      ]
     },
     "metadata": {},
     "output_type": "display_data"
    },
    {
     "data": {
      "application/vnd.jupyter.widget-view+json": {
       "model_id": "2c8346df1f6f4547b27feebd403c9417",
       "version_major": 2,
       "version_minor": 0
      },
      "text/plain": [
       "Button(description='Add Task', style=ButtonStyle())"
      ]
     },
     "metadata": {},
     "output_type": "display_data"
    },
    {
     "data": {
      "application/vnd.jupyter.widget-view+json": {
       "model_id": "28925f77b15242bca3ada02b9cb00226",
       "version_major": 2,
       "version_minor": 0
      },
      "text/plain": [
       "Text(value='', description='Task to remove:')"
      ]
     },
     "metadata": {},
     "output_type": "display_data"
    },
    {
     "data": {
      "application/vnd.jupyter.widget-view+json": {
       "model_id": "56c67842a13845d79168be2d22bce44a",
       "version_major": 2,
       "version_minor": 0
      },
      "text/plain": [
       "Button(description='Remove Task', style=ButtonStyle())"
      ]
     },
     "metadata": {},
     "output_type": "display_data"
    },
    {
     "data": {
      "application/vnd.jupyter.widget-view+json": {
       "model_id": "e51609b920e64fd9934ebcf2b34bc90d",
       "version_major": 2,
       "version_minor": 0
      },
      "text/plain": [
       "Button(description='List Tasks', style=ButtonStyle())"
      ]
     },
     "metadata": {},
     "output_type": "display_data"
    },
    {
     "data": {
      "application/vnd.jupyter.widget-view+json": {
       "model_id": "298b5319f1f247c58634e8e625780ebf",
       "version_major": 2,
       "version_minor": 0
      },
      "text/plain": [
       "Button(description='Recommend Task', style=ButtonStyle())"
      ]
     },
     "metadata": {},
     "output_type": "display_data"
    },
    {
     "data": {
      "application/vnd.jupyter.widget-view+json": {
       "model_id": "8bcffe46638c4f8d9dadeda487dd816c",
       "version_major": 2,
       "version_minor": 0
      },
      "text/plain": [
       "Output()"
      ]
     },
     "metadata": {},
     "output_type": "display_data"
    }
   ],
   "source": [
    "import pandas as pd\n",
    "from sklearn.feature_extraction.text import CountVectorizer\n",
    "from sklearn.naive_bayes import MultinomialNB\n",
    "from sklearn.pipeline import make_pipeline\n",
    "import random\n",
    "import ipywidgets as widgets\n",
    "from IPython.display import display\n",
    "\n",
    "# Initialize an empty task list\n",
    "tasks = pd.DataFrame(columns=['description', 'priority'])\n",
    "\n",
    "# Load pre-existing tasks from a CSV file (if any)\n",
    "try:\n",
    "    tasks = pd.read_csv('tasks.csv')\n",
    "except FileNotFoundError:\n",
    "    pass\n",
    "\n",
    "# Function to save tasks to a CSV file\n",
    "def save_tasks():\n",
    "    tasks.to_csv('tasks.csv', index=False)\n",
    "\n",
    "# Function to train the task priority classifier\n",
    "def train_classifier():\n",
    "    vectorizer = CountVectorizer()\n",
    "    clf = MultinomialNB()\n",
    "    model = make_pipeline(vectorizer, clf)\n",
    "    model.fit(tasks['description'], tasks['priority'])\n",
    "    return model\n",
    "\n",
    "# Function to add a task to the list\n",
    "def add_task(description, priority):\n",
    "    global tasks  # Declare tasks as a global variable\n",
    "    new_task = pd.DataFrame({'description': [description], 'priority': [priority]})\n",
    "    tasks = pd.concat([tasks, new_task], ignore_index=True)\n",
    "    save_tasks()\n",
    "\n",
    "# Function to remove a task by description\n",
    "def remove_task(description):\n",
    "    global tasks  # Declare tasks as a global variable\n",
    "    tasks = tasks[tasks['description'] != description]\n",
    "    save_tasks()\n",
    "\n",
    "# Function to list all tasks\n",
    "def list_tasks():\n",
    "    if tasks.empty:\n",
    "        return \"No tasks available.\"\n",
    "    else:\n",
    "        return tasks.to_string(index=False)\n",
    "\n",
    "# Function to recommend a task based on machine learning\n",
    "def recommend_task(model):\n",
    "    if not tasks.empty:\n",
    "        high_priority_tasks = tasks[tasks['priority'] == 'High']\n",
    "\n",
    "        if not high_priority_tasks.empty:\n",
    "            random_task = random.choice(high_priority_tasks['description'].values)\n",
    "            return f\"Recommended task: {random_task} - Priority: High\"\n",
    "        else:\n",
    "            return \"No high-priority tasks available for recommendation.\"\n",
    "    else:\n",
    "        return \"No tasks available for recommendations.\"\n",
    "\n",
    "# Create interactive widgets\n",
    "description_input = widgets.Text(description=\"Task description:\")\n",
    "priority_dropdown = widgets.Dropdown(options=['Low', 'Medium', 'High'], description=\"Priority:\")\n",
    "add_button = widgets.Button(description=\"Add Task\")\n",
    "remove_input = widgets.Text(description=\"Task to remove:\")\n",
    "remove_button = widgets.Button(description=\"Remove Task\")\n",
    "list_button = widgets.Button(description=\"List Tasks\")\n",
    "recommend_button = widgets.Button(description=\"Recommend Task\")\n",
    "output = widgets.Output()\n",
    "\n",
    "# Define event handlers\n",
    "def add_button_click(b):\n",
    "    add_task(description_input.value, priority_dropdown.value)\n",
    "    with output:\n",
    "        print(\"Task added successfully.\")\n",
    "\n",
    "def remove_button_click(b):\n",
    "    remove_task(remove_input.value)\n",
    "    with output:\n",
    "        print(\"Task removed successfully.\")\n",
    "\n",
    "def list_button_click(b):\n",
    "    with output:\n",
    "        print(list_tasks())\n",
    "\n",
    "def recommend_button_click(b):\n",
    "    model = train_classifier()\n",
    "    with output:\n",
    "        print(recommend_task(model))\n",
    "\n",
    "# Attach event handlers\n",
    "add_button.on_click(add_button_click)\n",
    "remove_button.on_click(remove_button_click)\n",
    "list_button.on_click(list_button_click)\n",
    "recommend_button.on_click(recommend_button_click)\n",
    "\n",
    "# Display widgets\n",
    "display(description_input, priority_dropdown, add_button)\n",
    "display(remove_input, remove_button)\n",
    "display(list_button, recommend_button)\n",
    "display(output)\n"
   ]
  },
  {
   "cell_type": "code",
   "execution_count": null,
   "id": "368c1fc3",
   "metadata": {},
   "outputs": [],
   "source": []
  }
 ],
 "metadata": {
  "kernelspec": {
   "display_name": "Python 3 (ipykernel)",
   "language": "python",
   "name": "python3"
  },
  "language_info": {
   "codemirror_mode": {
    "name": "ipython",
    "version": 3
   },
   "file_extension": ".py",
   "mimetype": "text/x-python",
   "name": "python",
   "nbconvert_exporter": "python",
   "pygments_lexer": "ipython3",
   "version": "3.10.9"
  }
 },
 "nbformat": 4,
 "nbformat_minor": 5
}
